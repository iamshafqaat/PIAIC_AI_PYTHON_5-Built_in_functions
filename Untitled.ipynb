{
 "cells": [
  {
   "cell_type": "code",
   "execution_count": 2,
   "metadata": {},
   "outputs": [
    {
     "ename": "SyntaxError",
     "evalue": "invalid syntax (<ipython-input-2-6c5ffa1e6eea>, line 1)",
     "output_type": "error",
     "traceback": [
      "\u001b[1;36m  File \u001b[1;32m\"<ipython-input-2-6c5ffa1e6eea>\"\u001b[1;36m, line \u001b[1;32m1\u001b[0m\n\u001b[1;33m    print(\"hello pakistan\")%%!\u001b[0m\n\u001b[1;37m                            ^\u001b[0m\n\u001b[1;31mSyntaxError\u001b[0m\u001b[1;31m:\u001b[0m invalid syntax\n"
     ]
    }
   ],
   "source": [
    "print(\"hello pakistan\")%%!"
   ]
  },
  {
   "cell_type": "code",
   "execution_count": 4,
   "metadata": {},
   "outputs": [
    {
     "name": "stdout",
     "output_type": "stream",
     "text": [
      "hello sohawa\n"
     ]
    }
   ],
   "source": [
    "print (\"hello sohawa\")"
   ]
  },
  {
   "cell_type": "code",
   "execution_count": 5,
   "metadata": {},
   "outputs": [
    {
     "name": "stdout",
     "output_type": "stream",
     "text": [
      "hello hii\n"
     ]
    }
   ],
   "source": [
    "print (\"hello hii\")"
   ]
  },
  {
   "cell_type": "code",
   "execution_count": 7,
   "metadata": {},
   "outputs": [
    {
     "name": "stdout",
     "output_type": "stream",
     "text": [
      "hlooo\n"
     ]
    }
   ],
   "source": [
    "print (\"hlooo\")"
   ]
  },
  {
   "cell_type": "code",
   "execution_count": null,
   "metadata": {},
   "outputs": [],
   "source": [
    "#  piaic islamabad batch 3\n",
    "### 3:30 to 6:30\n",
    "Python Hello World"
   ]
  },
  {
   "cell_type": "markdown",
   "metadata": {},
   "source": [
    "        "
   ]
  },
  {
   "cell_type": "code",
   "execution_count": 8,
   "metadata": {},
   "outputs": [],
   "source": [
    "# String Method"
   ]
  },
  {
   "cell_type": "code",
   "execution_count": 9,
   "metadata": {},
   "outputs": [],
   "source": [
    "# String"
   ]
  },
  {
   "cell_type": "markdown",
   "metadata": {},
   "source": [
    "# string"
   ]
  },
  {
   "cell_type": "code",
   "execution_count": 10,
   "metadata": {},
   "outputs": [],
   "source": [
    "# string method"
   ]
  },
  {
   "cell_type": "markdown",
   "metadata": {},
   "source": [
    "# string method"
   ]
  },
  {
   "cell_type": "code",
   "execution_count": 14,
   "metadata": {},
   "outputs": [
    {
     "name": "stdout",
     "output_type": "stream",
     "text": [
      "\n",
      "PIAIC ISLAMABAD\n",
      "TIMING: 3:30 to 6:30\n",
      "Name: Syed Shafqaat Haider\n",
      "Father name: Syed pervaiz Shah\n",
      "University : Arid uni UIIT\n",
      "\n"
     ]
    }
   ],
   "source": [
    "TIMING= \"3:30 to 6:30\"\n",
    "Name=\"Syed Shafqaat Haider\"\n",
    "Father_name=\"Syed pervaiz Shah\"\n",
    "University=\"Arid uni UIIT\"\n",
    "\n",
    "\n",
    "message=  \"\"\"\n",
    "PIAIC ISLAMABAD\n",
    "TIMING: {}\n",
    "Name: {}\n",
    "Father name: {}\n",
    "University : {}\n",
    "\"\"\"\n",
    "message=message.format(TIMING,Name,Father_name,University)\n",
    "print (message)\n"
   ]
  },
  {
   "cell_type": "code",
   "execution_count": 17,
   "metadata": {},
   "outputs": [
    {
     "name": "stdout",
     "output_type": "stream",
     "text": [
      "Enter your time:3:35 to 6\n",
      "Enter your name:syed shafqaat haider\n",
      "Enter papa's name:syed pervaiz shah\n",
      "Enter uni name:UIIT RWP\n",
      "\n",
      "PIAIC ISLAMABAD\n",
      "TIMING: 3:35 to 6\n",
      "Name: syed shafqaat haider\n",
      "Father name: syed pervaiz shah\n",
      "University : UIIT RWP\n",
      "\n"
     ]
    }
   ],
   "source": [
    "TIMING= input(\"Enter your time:\")\n",
    "Name= input(\"Enter your name:\")\n",
    "Father_name=input(\"Enter papa's name:\")\n",
    "University=input(\"Enter uni name:\")\n",
    "\n",
    "\n",
    "message=  \"\"\"\n",
    "PIAIC ISLAMABAD\n",
    "TIMING: {}\n",
    "Name: {}\n",
    "Father name: {}\n",
    "University : {}\n",
    "\"\"\"\n",
    "message=message.format(TIMING,Name,Father_name,University)\n",
    "print (message)\n"
   ]
  },
  {
   "cell_type": "code",
   "execution_count": null,
   "metadata": {},
   "outputs": [],
   "source": [
    "Name=input(\"Enter name\")\n",
    "Father_name=input(\"Enter father name:\")\n",
    "Phy:input(\"Enter phy marks\")\n",
    "Chem:input(\"Enter chem marks\")\n",
    "Maths:input(\"Enter maths marks\")\n",
    "Urdu:input(\"Enter urdu marks\")\n",
    "Total:input(\"Enter Total marks\")\n",
    "Percentage:input(\"Enter percentage\")\n",
    "\n",
    "message=\"\"\"Arid Agri Uni Rwp\n",
    "Fall 2019\n",
    "Name={}\n",
    "Father_name={}\n",
    "Phy:{}\n",
    "Chem:{}\n",
    "Maths:{}\n",
    "Urdu:{}\n",
    "Total:{}\n",
    "Percentage:{}\n",
    "\"\"\""
   ]
  },
  {
   "cell_type": "code",
   "execution_count": null,
   "metadata": {},
   "outputs": [],
   "source": []
  },
  {
   "cell_type": "code",
   "execution_count": null,
   "metadata": {},
   "outputs": [],
   "source": []
  },
  {
   "cell_type": "code",
   "execution_count": null,
   "metadata": {},
   "outputs": [],
   "source": []
  },
  {
   "cell_type": "code",
   "execution_count": null,
   "metadata": {},
   "outputs": [],
   "source": []
  },
  {
   "cell_type": "code",
   "execution_count": null,
   "metadata": {},
   "outputs": [],
   "source": []
  },
  {
   "cell_type": "code",
   "execution_count": null,
   "metadata": {},
   "outputs": [],
   "source": []
  }
 ],
 "metadata": {
  "kernelspec": {
   "display_name": "Python 3",
   "language": "python",
   "name": "python3"
  },
  "language_info": {
   "codemirror_mode": {
    "name": "ipython",
    "version": 3
   },
   "file_extension": ".py",
   "mimetype": "text/x-python",
   "name": "python",
   "nbconvert_exporter": "python",
   "pygments_lexer": "ipython3",
   "version": "3.7.4"
  }
 },
 "nbformat": 4,
 "nbformat_minor": 2
}
