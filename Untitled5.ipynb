{
 "cells": [
  {
   "cell_type": "code",
   "execution_count": 1,
   "metadata": {},
   "outputs": [
    {
     "name": "stdout",
     "output_type": "stream",
     "text": [
      "The Zen of Python, by Tim Peters\n",
      "\n",
      "Beautiful is better than ugly.\n",
      "Explicit is better than implicit.\n",
      "Simple is better than complex.\n",
      "Complex is better than complicated.\n",
      "Flat is better than nested.\n",
      "Sparse is better than dense.\n",
      "Readability counts.\n",
      "Special cases aren't special enough to break the rules.\n",
      "Although practicality beats purity.\n",
      "Errors should never pass silently.\n",
      "Unless explicitly silenced.\n",
      "In the face of ambiguity, refuse the temptation to guess.\n",
      "There should be one-- and preferably only one --obvious way to do it.\n",
      "Although that way may not be obvious at first unless you're Dutch.\n",
      "Now is better than never.\n",
      "Although never is often better than *right* now.\n",
      "If the implementation is hard to explain, it's a bad idea.\n",
      "If the implementation is easy to explain, it may be a good idea.\n",
      "Namespaces are one honking great idea -- let's do more of those!\n"
     ]
    }
   ],
   "source": [
    "import this"
   ]
  },
  {
   "cell_type": "code",
   "execution_count": 2,
   "metadata": {},
   "outputs": [],
   "source": [
    "# operatoes\n",
    "# +,-,*,/\n",
    "# ==,<,>,<=>=,!=\n",
    "# and(&) or (|)\n",
    "# 5,9 \n",
    "# operands\n"
   ]
  },
  {
   "cell_type": "code",
   "execution_count": 3,
   "metadata": {},
   "outputs": [
    {
     "name": "stdout",
     "output_type": "stream",
     "text": [
      "20\n",
      "20\n"
     ]
    }
   ],
   "source": [
    "a=20\n",
    "b=20\n",
    "\n",
    "print (a)\n",
    "print (b)\n"
   ]
  },
  {
   "cell_type": "code",
   "execution_count": 5,
   "metadata": {},
   "outputs": [
    {
     "name": "stdout",
     "output_type": "stream",
     "text": [
      "20\n"
     ]
    }
   ],
   "source": [
    "a=20\n",
    "a+5;\n",
    "print(a)\n"
   ]
  },
  {
   "cell_type": "code",
   "execution_count": 8,
   "metadata": {},
   "outputs": [
    {
     "name": "stdout",
     "output_type": "stream",
     "text": [
      "20\n",
      "20\n",
      "140728024671216\n",
      "140728024671216\n"
     ]
    }
   ],
   "source": [
    "#Two types of copy: Shallow, Deep\n",
    "# Shallow copy just copies the address i.e c=b we call b from c\n",
    "# Depp copies the data and value both \n",
    "a=20\n",
    "b=20\n",
    "\n",
    "print (a)\n",
    "print (b)\n",
    "\n",
    "\n",
    "print (id(a))\n",
    "print (id(b))\n"
   ]
  },
  {
   "cell_type": "code",
   "execution_count": 14,
   "metadata": {},
   "outputs": [
    {
     "name": "stdout",
     "output_type": "stream",
     "text": [
      "20\n",
      "<class 'int'>\n",
      "1.0\n",
      "<class 'float'>\n",
      "bashar\n",
      "<class 'str'>\n"
     ]
    }
   ],
   "source": [
    "# Premitive Datatypes\n",
    "# 1-integer\n",
    "a=20\n",
    "print (a)\n",
    "print (type(a))\n",
    "\n",
    "# float\n",
    "\n",
    "a=20\n",
    "b=20\n",
    "\n",
    "c=a/b\n",
    "print (c)\n",
    "print(type(c))\n",
    "\n",
    "#string \n",
    "a=\"bashar\"\n",
    "print (a)\n",
    "print (type(a))\n"
   ]
  },
  {
   "cell_type": "code",
   "execution_count": 17,
   "metadata": {},
   "outputs": [
    {
     "name": "stdout",
     "output_type": "stream",
     "text": [
      "['Musharaf', 'Hammad', 'Ahmed', 200, True]\n",
      "Ahmed\n",
      "<class 'list'>\n"
     ]
    }
   ],
   "source": [
    "# List datatypes\n",
    "#indexes    0          1      2     3    4\n",
    "names= [\"Musharaf\",\"Hammad\",\"Ahmed\",200,True]\n",
    "#neg indexes -5    ,-4     -3      ,-2  ,-1\n",
    "print (names)\n",
    "print (names[2])\n",
    "print(type(names))"
   ]
  },
  {
   "cell_type": "code",
   "execution_count": 18,
   "metadata": {},
   "outputs": [],
   "source": [
    "#mutable and immutable----imutable does not change----while mutbale will be changeable.\n",
    "#tuple does not change so it is immutable..\n"
   ]
  },
  {
   "cell_type": "code",
   "execution_count": 27,
   "metadata": {},
   "outputs": [
    {
     "data": {
      "text/plain": [
       "'ahmed'"
      ]
     },
     "execution_count": 27,
     "metadata": {},
     "output_type": "execute_result"
    }
   ],
   "source": [
    "#set datatypes\n",
    "names={\"ali\",\"ahmed\",\"afaq\",\"zain\"}\n",
    "names=list(names) #Type casting Concept---- Change data type from set to list to seach by indexes\n",
    "names[0]\n"
   ]
  },
  {
   "cell_type": "markdown",
   "metadata": {},
   "source": [
    "# Slicing"
   ]
  },
  {
   "cell_type": "code",
   "execution_count": 28,
   "metadata": {},
   "outputs": [],
   "source": [
    "#list(start;end;step)\n",
    "#tuple(start;end;step)\n",
    "#string(start;end;step)\n",
    "#start-> included\n",
    "#end -> excluded\n",
    "# step -> Sequence"
   ]
  },
  {
   "cell_type": "code",
   "execution_count": 34,
   "metadata": {},
   "outputs": [
    {
     "name": "stdout",
     "output_type": "stream",
     "text": [
      "Pakistan will rise INSHALLAH\n",
      "HLS ilwaiP\n",
      "ak\n",
      "Pakistan w\n",
      "Pakistan will rise INSHALLA\n"
     ]
    }
   ],
   "source": [
    "a=\"Pakistan will rise INSHALLAH\"\n",
    "print(a[::])\n",
    "print(a[::-3])\n",
    "print(a[1:3])\n",
    "print(a[0:10])\n",
    "print(a[0:-1])"
   ]
  },
  {
   "cell_type": "code",
   "execution_count": 36,
   "metadata": {},
   "outputs": [
    {
     "data": {
      "text/plain": [
       "['__add__',\n",
       " '__class__',\n",
       " '__contains__',\n",
       " '__delattr__',\n",
       " '__dir__',\n",
       " '__doc__',\n",
       " '__eq__',\n",
       " '__format__',\n",
       " '__ge__',\n",
       " '__getattribute__',\n",
       " '__getitem__',\n",
       " '__getnewargs__',\n",
       " '__gt__',\n",
       " '__hash__',\n",
       " '__init__',\n",
       " '__init_subclass__',\n",
       " '__iter__',\n",
       " '__le__',\n",
       " '__len__',\n",
       " '__lt__',\n",
       " '__mod__',\n",
       " '__mul__',\n",
       " '__ne__',\n",
       " '__new__',\n",
       " '__reduce__',\n",
       " '__reduce_ex__',\n",
       " '__repr__',\n",
       " '__rmod__',\n",
       " '__rmul__',\n",
       " '__setattr__',\n",
       " '__sizeof__',\n",
       " '__str__',\n",
       " '__subclasshook__',\n",
       " 'capitalize',\n",
       " 'casefold',\n",
       " 'center',\n",
       " 'count',\n",
       " 'encode',\n",
       " 'endswith',\n",
       " 'expandtabs',\n",
       " 'find',\n",
       " 'format',\n",
       " 'format_map',\n",
       " 'index',\n",
       " 'isalnum',\n",
       " 'isalpha',\n",
       " 'isascii',\n",
       " 'isdecimal',\n",
       " 'isdigit',\n",
       " 'isidentifier',\n",
       " 'islower',\n",
       " 'isnumeric',\n",
       " 'isprintable',\n",
       " 'isspace',\n",
       " 'istitle',\n",
       " 'isupper',\n",
       " 'join',\n",
       " 'ljust',\n",
       " 'lower',\n",
       " 'lstrip',\n",
       " 'maketrans',\n",
       " 'partition',\n",
       " 'replace',\n",
       " 'rfind',\n",
       " 'rindex',\n",
       " 'rjust',\n",
       " 'rpartition',\n",
       " 'rsplit',\n",
       " 'rstrip',\n",
       " 'split',\n",
       " 'splitlines',\n",
       " 'startswith',\n",
       " 'strip',\n",
       " 'swapcase',\n",
       " 'title',\n",
       " 'translate',\n",
       " 'upper',\n",
       " 'zfill']"
      ]
     },
     "execution_count": 36,
     "metadata": {},
     "output_type": "execute_result"
    }
   ],
   "source": [
    "# string data types\n",
    "a=\"ishafqaatsyed\"\n",
    "a.capitalize\n",
    "dir(a)"
   ]
  },
  {
   "cell_type": "code",
   "execution_count": 42,
   "metadata": {},
   "outputs": [
    {
     "name": "stdout",
     "output_type": "stream",
     "text": [
      "Muhammad Bin Qasim\n",
      "MUHAMMAD BIN QASIM\n",
      "MUHAMMAD BIN QASIM\n"
     ]
    }
   ],
   "source": [
    "a=\"Muhammad Bin Qasim\"\n",
    "print(a)\n",
    "print(a.upper()) #inline operation\n",
    "a=a.upper()\n",
    "print(a) #in memory operation"
   ]
  },
  {
   "cell_type": "code",
   "execution_count": 46,
   "metadata": {},
   "outputs": [
    {
     "name": "stdout",
     "output_type": "stream",
     "text": [
      "32\n",
      "Muhammad Bin Qasim        \n",
      "Muhammad Bin Qasim\n",
      "      Muhammad Bin Qasim        \n"
     ]
    }
   ],
   "source": [
    "a=\"      Muhammad Bin Qasim        \"\n",
    "print(len(a))\n",
    "print(a.lstrip())\n",
    "print(a.strip())\n",
    "print(a)"
   ]
  },
  {
   "cell_type": "code",
   "execution_count": 49,
   "metadata": {},
   "outputs": [
    {
     "data": {
      "text/plain": [
       "['Syed', 'Shafqaat', 'Haider']"
      ]
     },
     "execution_count": 49,
     "metadata": {},
     "output_type": "execute_result"
    }
   ],
   "source": [
    "a=\"Syed Shafqaat Haider\"\n",
    "b=a.split()\n",
    "b"
   ]
  },
  {
   "cell_type": "code",
   "execution_count": 50,
   "metadata": {},
   "outputs": [
    {
     "data": {
      "text/plain": [
       "'Syed>>>Shafqaat>>>Haider'"
      ]
     },
     "execution_count": 50,
     "metadata": {},
     "output_type": "execute_result"
    }
   ],
   "source": [
    "\">>>\".join(b)\n"
   ]
  },
  {
   "cell_type": "code",
   "execution_count": 74,
   "metadata": {},
   "outputs": [
    {
     "ename": "TypeError",
     "evalue": "'builtin_function_or_method' object is not subscriptable",
     "output_type": "error",
     "traceback": [
      "\u001b[1;31m---------------------------------------------------------------------------\u001b[0m",
      "\u001b[1;31mTypeError\u001b[0m                                 Traceback (most recent call last)",
      "\u001b[1;32m<ipython-input-74-268d29875b69>\u001b[0m in \u001b[0;36m<module>\u001b[1;34m\u001b[0m\n\u001b[0;32m      1\u001b[0m \u001b[0ma\u001b[0m\u001b[1;33m=\u001b[0m\u001b[1;34m\"We are pakistani we love our country\"\u001b[0m\u001b[1;33m\u001b[0m\u001b[1;33m\u001b[0m\u001b[0m\n\u001b[1;32m----> 2\u001b[1;33m \u001b[0ma\u001b[0m\u001b[1;33m.\u001b[0m\u001b[0mfind\u001b[0m\u001b[1;33m[\u001b[0m\u001b[1;33m(\u001b[0m\u001b[1;34m\"pakistan\"\u001b[0m\u001b[1;33m)\u001b[0m\u001b[1;33m]\u001b[0m\u001b[1;33m\u001b[0m\u001b[1;33m\u001b[0m\u001b[0m\n\u001b[0m\u001b[0;32m      3\u001b[0m \u001b[0ma\u001b[0m\u001b[1;33m.\u001b[0m\u001b[0mindex\u001b[0m\u001b[1;33m[\u001b[0m\u001b[1;34m\"pakistan\"\u001b[0m\u001b[1;33m]\u001b[0m\u001b[1;33m\u001b[0m\u001b[1;33m\u001b[0m\u001b[0m\n",
      "\u001b[1;31mTypeError\u001b[0m: 'builtin_function_or_method' object is not subscriptable"
     ]
    }
   ],
   "source": [
    "a=\"We are pakistani we love our country\"\n",
    "a.find[(\"pakistan\")]\n",
    "a.index[\"pakistan\"]"
   ]
  },
  {
   "cell_type": "code",
   "execution_count": 56,
   "metadata": {},
   "outputs": [
    {
     "ename": "SyntaxError",
     "evalue": "invalid syntax (<ipython-input-56-baf8b9a64d05>, line 1)",
     "output_type": "error",
     "traceback": [
      "\u001b[1;36m  File \u001b[1;32m\"<ipython-input-56-baf8b9a64d05>\"\u001b[1;36m, line \u001b[1;32m1\u001b[0m\n\u001b[1;33m    a[a.index{\"pakistan\"}; a.index{\"pakistan\"}+9]\u001b[0m\n\u001b[1;37m             ^\u001b[0m\n\u001b[1;31mSyntaxError\u001b[0m\u001b[1;31m:\u001b[0m invalid syntax\n"
     ]
    }
   ],
   "source": [
    "a[a.index{\"pakistan\"}; a.index{\"pakistan\"}+9]"
   ]
  },
  {
   "cell_type": "code",
   "execution_count": 59,
   "metadata": {},
   "outputs": [
    {
     "ename": "SyntaxError",
     "evalue": "invalid syntax (<ipython-input-59-00127db080f0>, line 1)",
     "output_type": "error",
     "traceback": [
      "\u001b[1;36m  File \u001b[1;32m\"<ipython-input-59-00127db080f0>\"\u001b[1;36m, line \u001b[1;32m1\u001b[0m\n\u001b[1;33m    b=input(\"Search:\")]\u001b[0m\n\u001b[1;37m                      ^\u001b[0m\n\u001b[1;31mSyntaxError\u001b[0m\u001b[1;31m:\u001b[0m invalid syntax\n"
     ]
    }
   ],
   "source": [
    "b=input(\"Search:\")]\n",
    "print(a[a.index(b)];a.index[])"
   ]
  },
  {
   "cell_type": "code",
   "execution_count": 67,
   "metadata": {},
   "outputs": [
    {
     "name": "stdout",
     "output_type": "stream",
     "text": [
      "\n",
      "PIAIC ISLAMABAD\n",
      "Bahria University\n",
      "Name: Syed Shafqaat HAider\n",
      "Fathers Name: Syed Pervaiz Shah\n",
      "Gender:male\n",
      "\n"
     ]
    }
   ],
   "source": [
    "card = \"\"\"\n",
    "PIAIC ISLAMABAD\n",
    "Bahria University\n",
    "Name: Syed Shafqaat HAider\n",
    "Fathers Name: Syed Pervaiz Shah\n",
    "Gender:male\n",
    "\"\"\"\n",
    "print(card)"
   ]
  },
  {
   "cell_type": "code",
   "execution_count": null,
   "metadata": {},
   "outputs": [],
   "source": [
    "student_name=input(\"Enter student name:\")\n",
    "Father_name=input\n",
    "card = \"\"\"\n",
    "PIAIC ISLAMABAD\n",
    "Bahria University\n",
    "Name: Syed Shafqaat HAider\n",
    "Fathers Name: Syed Pervaiz Shah\n",
    "Gender:male\n",
    "Fee:%d\n",
    "\"\"\""
   ]
  },
  {
   "cell_type": "code",
   "execution_count": 70,
   "metadata": {},
   "outputs": [
    {
     "name": "stdout",
     "output_type": "stream",
     "text": [
      "\n",
      "Bahria University islamabad\n",
      "Student name: f{name}\n",
      "Father name: {father}\n",
      "Fee: {Fee}\n",
      "\n"
     ]
    }
   ],
   "source": [
    "name=\"Shafqaat Haider\"\n",
    "Father=\"pervaiz Shah\"\n",
    "Fee=\"1000\"\n",
    "\n",
    "a=\"\"\"\n",
    "Bahria University islamabad\n",
    "Student name: {name}\n",
    "Father name: {father}\n",
    "Fee: {Fee}\n",
    "\"\"\"\n",
    "print(a)"
   ]
  },
  {
   "cell_type": "code",
   "execution_count": 69,
   "metadata": {},
   "outputs": [
    {
     "name": "stdout",
     "output_type": "stream",
     "text": [
      "\n",
      "Bahria University islamabad\n",
      "Student name: Shafqaat Haider\n",
      "Father name: pervaiz Shah\n",
      "Fee: 1000\n",
      "\n"
     ]
    }
   ],
   "source": [
    "name=\"Shafqaat Haider\"\n",
    "Father=\"pervaiz Shah\"\n",
    "Fee=\"1000\"\n",
    "\n",
    "a=\"\"\"\n",
    "Bahria University islamabad\n",
    "Student name: {}\n",
    "Father name: {}\n",
    "Fee: {}\n",
    "\"\"\"\n",
    "print (a.format(name,Father,Fee))"
   ]
  },
  {
   "cell_type": "code",
   "execution_count": 72,
   "metadata": {},
   "outputs": [
    {
     "name": "stdout",
     "output_type": "stream",
     "text": [
      "\n",
      "Bahria University islamabad\n",
      "Student name: Shafqaat Haider\n",
      "Father name: pervaiz Shah\n",
      "Fee: 1000\n",
      "\n"
     ]
    }
   ],
   "source": [
    "name=\"Shafqaat Haider\"\n",
    "Father=\"pervaiz Shah\"\n",
    "Fee=\"1000\"\n",
    "\n",
    "a=\"\"\"\n",
    "Bahria University islamabad\n",
    "Student name: {sn}\n",
    "Father name: {fn}\n",
    "Fee: {f}\n",
    "\"\"\"\n",
    "print (a.format(sn=name,fn=Father,f=Fee))"
   ]
  },
  {
   "cell_type": "code",
   "execution_count": 73,
   "metadata": {},
   "outputs": [
    {
     "data": {
      "text/plain": [
       "'11'"
      ]
     },
     "execution_count": 73,
     "metadata": {},
     "output_type": "execute_result"
    }
   ],
   "source": [
    "\"1\"+'1'"
   ]
  },
  {
   "cell_type": "code",
   "execution_count": 75,
   "metadata": {},
   "outputs": [
    {
     "data": {
      "text/plain": [
       "2"
      ]
     },
     "execution_count": 75,
     "metadata": {},
     "output_type": "execute_result"
    }
   ],
   "source": [
    "int(\"1\")+int('1')"
   ]
  },
  {
   "cell_type": "code",
   "execution_count": 76,
   "metadata": {},
   "outputs": [
    {
     "data": {
      "text/plain": [
       "2"
      ]
     },
     "execution_count": 76,
     "metadata": {},
     "output_type": "execute_result"
    }
   ],
   "source": [
    "1*2"
   ]
  },
  {
   "cell_type": "code",
   "execution_count": 77,
   "metadata": {},
   "outputs": [
    {
     "data": {
      "text/plain": [
       "0.5"
      ]
     },
     "execution_count": 77,
     "metadata": {},
     "output_type": "execute_result"
    }
   ],
   "source": [
    "1/2"
   ]
  },
  {
   "cell_type": "code",
   "execution_count": 78,
   "metadata": {},
   "outputs": [
    {
     "data": {
      "text/plain": [
       "'gggg'"
      ]
     },
     "execution_count": 78,
     "metadata": {},
     "output_type": "execute_result"
    }
   ],
   "source": [
    "\"gg\"*2"
   ]
  },
  {
   "cell_type": "code",
   "execution_count": 89,
   "metadata": {},
   "outputs": [
    {
     "name": "stdout",
     "output_type": "stream",
     "text": [
      "Bahria Uni Islamabad\n",
      "Student name:shafqaat\n",
      "Father name:Pervaiz\n"
     ]
    }
   ],
   "source": [
    "name=\"shafqaat\"\n",
    "fname=\"Pervaiz\"\n",
    "Fee=\"200\"\n",
    "print(\"Bahria Uni Islamabad\\nStudent name:\\\n",
    "\"+name+\"\\nFather name:\"+fname)"
   ]
  },
  {
   "cell_type": "code",
   "execution_count": null,
   "metadata": {},
   "outputs": [],
   "source": []
  }
 ],
 "metadata": {
  "kernelspec": {
   "display_name": "Python 3",
   "language": "python",
   "name": "python3"
  },
  "language_info": {
   "codemirror_mode": {
    "name": "ipython",
    "version": 3
   },
   "file_extension": ".py",
   "mimetype": "text/x-python",
   "name": "python",
   "nbconvert_exporter": "python",
   "pygments_lexer": "ipython3",
   "version": "3.7.4"
  }
 },
 "nbformat": 4,
 "nbformat_minor": 2
}
